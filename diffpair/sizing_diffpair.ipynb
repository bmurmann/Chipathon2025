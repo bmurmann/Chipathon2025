{
 "cells": [
  {
   "cell_type": "code",
   "execution_count": 38,
   "metadata": {},
   "outputs": [],
   "source": [
    "import numpy as np\n",
    "import pandas as pd\n",
    "from pygmid import Lookup as lk"
   ]
  },
  {
   "cell_type": "markdown",
   "metadata": {},
   "source": [
    "#### Technology data"
   ]
  },
  {
   "cell_type": "code",
   "execution_count": 39,
   "metadata": {},
   "outputs": [],
   "source": [
    "n = lk('../lookup_tables/nfet_03v3.mat')"
   ]
  },
  {
   "cell_type": "markdown",
   "metadata": {},
   "source": [
    "#### Specifications"
   ]
  },
  {
   "cell_type": "code",
   "execution_count": 40,
   "metadata": {},
   "outputs": [],
   "source": [
    "gm = 10e-3"
   ]
  },
  {
   "cell_type": "markdown",
   "metadata": {},
   "source": [
    "#### Design choices"
   ]
  },
  {
   "cell_type": "code",
   "execution_count": 41,
   "metadata": {},
   "outputs": [],
   "source": [
    "l = 0.28\n",
    "gm_id = np.array([5, 10, 20])"
   ]
  },
  {
   "cell_type": "markdown",
   "metadata": {},
   "source": [
    "#### Sizing and benchmarking"
   ]
  },
  {
   "cell_type": "code",
   "execution_count": 42,
   "metadata": {},
   "outputs": [
    {
     "data": {
      "text/html": [
       "<div>\n",
       "<style scoped>\n",
       "    .dataframe tbody tr th:only-of-type {\n",
       "        vertical-align: middle;\n",
       "    }\n",
       "\n",
       "    .dataframe tbody tr th {\n",
       "        vertical-align: top;\n",
       "    }\n",
       "\n",
       "    .dataframe thead th {\n",
       "        text-align: right;\n",
       "    }\n",
       "</style>\n",
       "<table border=\"1\" class=\"dataframe\">\n",
       "  <thead>\n",
       "    <tr style=\"text-align: right;\">\n",
       "      <th></th>\n",
       "      <th>option1</th>\n",
       "      <th>option2</th>\n",
       "      <th>option3</th>\n",
       "    </tr>\n",
       "  </thead>\n",
       "  <tbody>\n",
       "    <tr>\n",
       "      <th>gm_id</th>\n",
       "      <td>5.000000e+00</td>\n",
       "      <td>1.000000e+01</td>\n",
       "      <td>2.000000e+01</td>\n",
       "    </tr>\n",
       "    <tr>\n",
       "      <th>id</th>\n",
       "      <td>2.000000e-03</td>\n",
       "      <td>1.000000e-03</td>\n",
       "      <td>5.000000e-04</td>\n",
       "    </tr>\n",
       "    <tr>\n",
       "      <th>jd</th>\n",
       "      <td>2.539270e-05</td>\n",
       "      <td>6.847242e-06</td>\n",
       "      <td>4.903808e-07</td>\n",
       "    </tr>\n",
       "    <tr>\n",
       "      <th>w</th>\n",
       "      <td>7.876281e+01</td>\n",
       "      <td>1.460442e+02</td>\n",
       "      <td>1.019616e+03</td>\n",
       "    </tr>\n",
       "    <tr>\n",
       "      <th>cgg</th>\n",
       "      <td>9.257212e-14</td>\n",
       "      <td>1.603948e-13</td>\n",
       "      <td>9.581458e-13</td>\n",
       "    </tr>\n",
       "    <tr>\n",
       "      <th>ft</th>\n",
       "      <td>1.719253e+10</td>\n",
       "      <td>9.922699e+09</td>\n",
       "      <td>1.661072e+09</td>\n",
       "    </tr>\n",
       "  </tbody>\n",
       "</table>\n",
       "</div>"
      ],
      "text/plain": [
       "            option1       option2       option3\n",
       "gm_id  5.000000e+00  1.000000e+01  2.000000e+01\n",
       "id     2.000000e-03  1.000000e-03  5.000000e-04\n",
       "jd     2.539270e-05  6.847242e-06  4.903808e-07\n",
       "w      7.876281e+01  1.460442e+02  1.019616e+03\n",
       "cgg    9.257212e-14  1.603948e-13  9.581458e-13\n",
       "ft     1.719253e+10  9.922699e+09  1.661072e+09"
      ]
     },
     "execution_count": 42,
     "metadata": {},
     "output_type": "execute_result"
    }
   ],
   "source": [
    "id = gm/gm_id\n",
    "jd = n.lookup('ID_W', GM_ID=gm_id, L=l)\n",
    "w = id/jd\n",
    "\n",
    "cgg_w = n.lookup('CGG_W', GM_ID=gm_id, L=l)\n",
    "cgg = w*cgg_w\n",
    "ft = gm/cgg/2/np.pi\n",
    "\n",
    "df = pd.DataFrame([gm_id, id, jd, w, cgg, ft], ['gm_id', 'id', 'jd', 'w', 'cgg', 'ft'], columns=['option1', 'option2', 'option3']); df"
   ]
  },
  {
   "cell_type": "markdown",
   "metadata": {},
   "source": [
    "#### Spice validation"
   ]
  },
  {
   "cell_type": "code",
   "execution_count": 43,
   "metadata": {},
   "outputs": [
    {
     "name": "stdout",
     "output_type": "stream",
     "text": [
      "Overwriting ./sizing_diffpair.spice\n"
     ]
    }
   ],
   "source": [
    "%%writefile ./sizing_diffpair.spice\n",
    "** differential pair sizing example\n",
    "\n",
    "*.lib /foss/pdks/gf180mcuD/libs.tech/ngspice/sm141064.ngspice typical\n",
    "*.inc /foss/pdks/gf180mcuD/libs.tech/ngspice/design.ngspice\n",
    "\n",
    "* updated models that allow finger parameterization\n",
    ".lib ../models_updated_2025.07.19/ngspice/sm141064.ngspice typical\n",
    ".inc ../models_updated_2025.07.19/ngspice/design.ngspice\n",
    "\n",
    ".param lx=0.28e-6 wx=146e-6 nfx=30, idx=1e-3\n",
    "\n",
    "XM1a d g s 0 nfet_03v3 L={lx} W={wx} nf={nfx} ad='int((nf+1)/2) * W/nf * 0.18u' as='int((nf+2)/2) * W/nf * 0.18u' pd='2*int((nf+1)/2) * (W/nf + 0.18u)'\n",
    "+ ps='2*int((nf+2)/2) * (W/nf + 0.18u)' nrd='0.18u / W' nrs='0.18u / W' sa=0 sb=0 sd=0 m=1\n",
    "XM1b d g s 0 nfet_03v3 L={lx} W={wx} nf={nfx} ad='int((nf+1)/2) * W/nf * 0.18u' as='int((nf+2)/2) * W/nf * 0.18u' pd='2*int((nf+1)/2) * (W/nf + 0.18u)'\n",
    "+ ps='2*int((nf+2)/2) * (W/nf + 0.18u)' nrd='0.18u / W' nrs='0.18u / W' sa=0 sb=0 sd=0 m=1\n",
    "vg  g  0  1\n",
    "vd  d  0  2\n",
    "is  s  0  {2*idx}\n",
    "\n",
    ".control\n",
    "  op\n",
    "  show\n",
    "  save @m.xM1a.m0[gm]\n",
    "  save @m.xM1a.m0[cgg]\n",
    "  save @m.xM1a.m0[cgso]\n",
    "  save @m.xM1a.m0[cgdo]\n",
    "\n",
    "  print @m.xM1a.m0[gm]\n",
    "  print @m.xM1a.m0[cgg]\n",
    "  print @m.xM1a.m0[cgso]\n",
    "  print @m.xM1a.m0[cgdo]\n",
    "    \n",
    ".endc\n",
    ".end"
   ]
  },
  {
   "cell_type": "code",
   "execution_count": 44,
   "metadata": {},
   "outputs": [
    {
     "name": "stdout",
     "output_type": "stream",
     "text": [
      "\n",
      "Note: Compatibility modes selected: hs\n",
      "\n",
      "Warning: m=xx on .subckt line will override multiplier m hierarchy!\n",
      "\n",
      "\n",
      "Circuit: ** differential pair sizing example\n",
      "\n",
      "Doing analysis at TEMP = 27.000000 and TNOM = 27.000000\n",
      "\n",
      "Using SPARSE 1.3 as Direct Linear Solver\n",
      "\n",
      "No. of Data Rows : 1\n",
      " BSIM4v5: Berkeley Short Channel IGFET Model-4\n",
      "     device             m.xm1b.m0             m.xm1a.m0\n",
      "      model           nfet_03v3.8           nfet_03v3.8\n",
      "          l               2.8e-07               2.8e-07\n",
      "          w              0.000146              0.000146\n",
      "          m                     1                     1\n",
      "         nf                    30                    30\n",
      "         sa                     0                     0\n",
      "         sb                     0                     0\n",
      "         sd                     0                     0\n",
      "        sca                     0                     0\n",
      "        scb                     0                     0\n",
      "        scc                     0                     0\n",
      "         sc                     0                     0\n",
      "        min                     0                     0\n",
      "         ad             1.314e-11             1.314e-11\n",
      "         as            1.4016e-11            1.4016e-11\n",
      "         pd             0.0001514             0.0001514\n",
      "         ps           0.000161493           0.000161493\n",
      "        nrd            0.00123288            0.00123288\n",
      "        nrs            0.00123288            0.00123288\n",
      "        off                     0                     0\n",
      "       rbdb                    50                    50\n",
      "       rbsb                    50                    50\n",
      "       rbpb                    50                    50\n",
      "       rbps                    50                    50\n",
      "       rbpd                    50                    50\n",
      "     delvto                    -0                     0\n",
      "      mulu0                     1                     1\n",
      "        xgw                     0                     0\n",
      "      ngcon                     1                     1\n",
      "   trnqsmod                     0                     0\n",
      "   acnqsmod                     0                     0\n",
      "   rbodymod                     0                     0\n",
      "   rgatemod                     0                     0\n",
      "     geomod                     0                     0\n",
      "    rgeomod                     0                     0\n",
      "       gmbs            0.00182948            0.00182948\n",
      "         gm             0.0099833             0.0099833\n",
      "        gds           0.000349294           0.000349294\n",
      "      vdsat                0.1489                0.1489\n",
      "        vth              0.664037              0.664037\n",
      "         id                 0.001                 0.001\n",
      "        ibd                -2e-12                -2e-12\n",
      "        ibs          -2.25845e-13          -2.25845e-13\n",
      "        gbd                 1e-12                 1e-12\n",
      "        gbs                 1e-12                 1e-12\n",
      "       isub           2.36128e-08           2.36128e-08\n",
      "      igidl           5.80973e-51           5.80973e-51\n",
      "      igisl                     0                     0\n",
      "        igs                     0                     0\n",
      "        igd                     0                     0\n",
      "        igb                     0                     0\n",
      "       igcs                     0                     0\n",
      "       igcd                     0                     0\n",
      "        vbs             -0.225836             -0.225836\n",
      "        vgs              0.774164              0.774164\n",
      "        vds               1.77416               1.77416\n",
      "        cgg           1.10452e-13           1.10452e-13\n",
      "        cgs          -8.76745e-14          -8.76745e-14\n",
      "        cgd            1.7256e-15            1.7256e-15\n",
      "        cbg          -2.12785e-14          -2.12785e-14\n",
      "        cbd           3.86022e-16           3.86022e-16\n",
      "        cbs          -2.00203e-14          -2.00203e-14\n",
      "        cdg          -3.56752e-14          -3.56752e-14\n",
      "        cdd          -8.43089e-16          -8.43089e-16\n",
      "        cds           4.30835e-14           4.30835e-14\n",
      "        csg          -5.34979e-14          -5.34979e-14\n",
      "        csd          -1.26854e-15          -1.26854e-15\n",
      "        css           6.46113e-14           6.46113e-14\n",
      "        cgb          -2.45028e-14          -2.45028e-14\n",
      "        cdb          -6.56519e-15          -6.56519e-15\n",
      "        csb          -9.84489e-15          -9.84489e-15\n",
      "        cbb           4.09128e-14           4.09128e-14\n",
      "      capbd           6.66792e-14           6.66792e-14\n",
      "      capbs           9.52885e-14           9.52885e-14\n",
      "         qg           1.23962e-13           1.23962e-13\n",
      "         qb          -9.91401e-14          -9.91401e-14\n",
      "         qd          -9.93014e-15          -9.93014e-15\n",
      "         qs          -1.48917e-14          -1.48917e-14\n",
      "       qinv           1.35848e-14           1.35848e-14\n",
      "       qdef                     0                     0\n",
      "       gcrg                     0                     0\n",
      "       gtau                     0                     0\n",
      "    vgsteff               0.11937               0.11937\n",
      "     vdseff               0.14754               0.14754\n",
      "       cgso           2.91692e-14           2.91692e-14\n",
      "       cgdo           2.00558e-14           2.00558e-14\n",
      "       cgbo               8.4e-19               8.4e-19\n",
      "       weff           4.84667e-06           4.84667e-06\n",
      "       leff               2.8e-07               2.8e-07\n",
      "\n",
      " Isource: Independent current source\n",
      "     device                    is\n",
      "         dc                 0.002\n",
      "          m                     1\n",
      "      acmag                     0\n",
      "      pulse         -\n",
      "        sin         -\n",
      "        exp         -\n",
      "        pwl         -\n",
      "       sffm         -\n",
      "         am         -\n",
      "    trnoise         -\n",
      "   trrandom         -\n",
      "          v             -0.225827\n",
      "          p           0.000451655\n",
      "    current                 0.002\n",
      "\n",
      " Vsource: Independent voltage source\n",
      "     device                    vd                    vg\n",
      "         dc                     2                     1\n",
      "      acmag                     0                     0\n",
      "      pulse         -         -\n",
      "        sin         -         -\n",
      "        exp         -         -\n",
      "        pwl         -         -\n",
      "       sffm         -         -\n",
      "         am         -         -\n",
      "    trnoise         -         -\n",
      "   trrandom         -         -\n",
      "    portnum                     0                     0\n",
      "         z0                     0                     0\n",
      "        pwr                     0                     0\n",
      "       freq                     0                     0\n",
      "      phase                     0                     0\n",
      "          i           -0.00200005                     0\n",
      "          p           -0.00400009                     0\n",
      "\n",
      "@m.xm1a.m0[gm] = 9.983304e-03\n",
      "@m.xm1a.m0[cgg] = 1.104517e-13\n",
      "@m.xm1a.m0[cgso] = 2.916925e-14\n",
      "@m.xm1a.m0[cgdo] = 2.005581e-14\n",
      "Note: Simulation executed from .control section \n"
     ]
    }
   ],
   "source": [
    "!PDK=gf180mcuD /foss/tools/bin/ngspice -b ./sizing_diffpair.spice"
   ]
  }
 ],
 "metadata": {
  "kernelspec": {
   "display_name": "Python 3",
   "language": "python",
   "name": "python3"
  },
  "language_info": {
   "codemirror_mode": {
    "name": "ipython",
    "version": 3
   },
   "file_extension": ".py",
   "mimetype": "text/x-python",
   "name": "python",
   "nbconvert_exporter": "python",
   "pygments_lexer": "ipython3",
   "version": "3.12.3"
  }
 },
 "nbformat": 4,
 "nbformat_minor": 2
}
