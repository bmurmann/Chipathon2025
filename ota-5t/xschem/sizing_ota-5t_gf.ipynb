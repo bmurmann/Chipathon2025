{
 "cells": [
  {
   "cell_type": "code",
   "execution_count": 99,
   "metadata": {},
   "outputs": [],
   "source": [
    "import numpy as np\n",
    "import pandas as pd\n",
    "from pygmid import Lookup as lk"
   ]
  },
  {
   "cell_type": "markdown",
   "metadata": {},
   "source": [
    "#### Technology data"
   ]
  },
  {
   "cell_type": "code",
   "execution_count": 100,
   "metadata": {},
   "outputs": [],
   "source": [
    "n = lk('../../lookup_tables/nfet_03v3.mat')\n",
    "p = lk('../../lookup_tables/pfet_03v3.mat')"
   ]
  },
  {
   "cell_type": "markdown",
   "metadata": {},
   "source": [
    "#### Specifications"
   ]
  },
  {
   "cell_type": "code",
   "execution_count": 101,
   "metadata": {},
   "outputs": [],
   "source": [
    "GBW=100e6; CL=1e-12"
   ]
  },
  {
   "cell_type": "markdown",
   "metadata": {},
   "source": [
    "#### Design choices"
   ]
  },
  {
   "cell_type": "code",
   "execution_count": 102,
   "metadata": {},
   "outputs": [],
   "source": [
    "gm_id0 = 12\n",
    "gm_id1 = 12\n",
    "gm_id2 = 12\n",
    "l0 = 0.5\n",
    "l1 = 0.5\n",
    "l2 = 0.5"
   ]
  },
  {
   "cell_type": "markdown",
   "metadata": {},
   "source": [
    "#### Sizing and benchmarking"
   ]
  },
  {
   "cell_type": "code",
   "execution_count": 103,
   "metadata": {},
   "outputs": [
    {
     "data": {
      "text/html": [
       "<div>\n",
       "<style scoped>\n",
       "    .dataframe tbody tr th:only-of-type {\n",
       "        vertical-align: middle;\n",
       "    }\n",
       "\n",
       "    .dataframe tbody tr th {\n",
       "        vertical-align: top;\n",
       "    }\n",
       "\n",
       "    .dataframe thead th {\n",
       "        text-align: right;\n",
       "    }\n",
       "</style>\n",
       "<table border=\"1\" class=\"dataframe\">\n",
       "  <thead>\n",
       "    <tr style=\"text-align: right;\">\n",
       "      <th></th>\n",
       "      <th>Value</th>\n",
       "    </tr>\n",
       "  </thead>\n",
       "  <tbody>\n",
       "    <tr>\n",
       "      <th>id1 (uA)</th>\n",
       "      <td>5.236000e+01</td>\n",
       "    </tr>\n",
       "    <tr>\n",
       "      <th>gm1 (mS)</th>\n",
       "      <td>6.300000e-01</td>\n",
       "    </tr>\n",
       "    <tr>\n",
       "      <th>fp2 (Hz)</th>\n",
       "      <td>2.814258e+08</td>\n",
       "    </tr>\n",
       "    <tr>\n",
       "      <th>PM (deg)</th>\n",
       "      <td>8.036000e+01</td>\n",
       "    </tr>\n",
       "  </tbody>\n",
       "</table>\n",
       "</div>"
      ],
      "text/plain": [
       "                 Value\n",
       "id1 (uA)  5.236000e+01\n",
       "gm1 (mS)  6.300000e-01\n",
       "fp2 (Hz)  2.814258e+08\n",
       "PM (deg)  8.036000e+01"
      ]
     },
     "execution_count": 103,
     "metadata": {},
     "output_type": "execute_result"
    }
   ],
   "source": [
    "# calculate gm of differential pair\n",
    "gm1 = 2*np.pi*GBW*CL\n",
    "\n",
    "# size all transistors\n",
    "id1 = gm1/gm_id1; id2=id1; id0=2*id1\n",
    "jd1 = n.lookup('ID_W', GM_ID=gm_id1, L=l1)\n",
    "w1 = id1/jd1\n",
    "jd2 = p.lookup('ID_W', GM_ID=gm_id2, L=l2)\n",
    "w2 = id1/jd2\n",
    "w0 = 2*w1\n",
    "\n",
    "# estimate mirror pole\n",
    "cgg2 = w2*p.lookup('CGG_W', GM_ID=gm_id2, L=l2)\n",
    "cdd2 = w2*p.lookup('CDD_W', GM_ID=gm_id2, L=l2)\n",
    "cdd1 = w2*n.lookup('CDD_W', GM_ID=gm_id1, L=l1)\n",
    "gm2 = gm1\n",
    "fp2 = gm2/(2*cgg2+cdd1+cdd2)/(2*np.pi)\n",
    "\n",
    "# estimate phase margin (mirror pole, LHP zero, RHP zero)\n",
    "phip2 = -np.arctan(GBW/fp2)*180/np.pi\n",
    "fz2 = 2*fp2\n",
    "phiz2 = +np.arctan(GBW/fz2)*180/np.pi\n",
    "cgd1 = w1*n.lookup('CGD_W', GM_ID=gm_id1, L=l1)\n",
    "fz3 = gm1/cgd1/(2*np.pi)\n",
    "phiz3 = -np.arctan(GBW/fz3)*180/np.pi\n",
    "PM = 90 +phip2 +phiz2 +phiz3 \n",
    "\n",
    "df = pd.DataFrame( [id1/1e-6, gm1/1e-3, fp2, PM], \\\n",
    "                   ['id1 (uA)', 'gm1 (mS)', 'fp2 (Hz)', 'PM (deg)'], columns=['Value']); df.round(2)"
   ]
  },
  {
   "cell_type": "code",
   "execution_count": 104,
   "metadata": {},
   "outputs": [
    {
     "data": {
      "text/html": [
       "<div>\n",
       "<style scoped>\n",
       "    .dataframe tbody tr th:only-of-type {\n",
       "        vertical-align: middle;\n",
       "    }\n",
       "\n",
       "    .dataframe tbody tr th {\n",
       "        vertical-align: top;\n",
       "    }\n",
       "\n",
       "    .dataframe thead th {\n",
       "        text-align: right;\n",
       "    }\n",
       "</style>\n",
       "<table border=\"1\" class=\"dataframe\">\n",
       "  <thead>\n",
       "    <tr style=\"text-align: right;\">\n",
       "      <th></th>\n",
       "      <th>M0</th>\n",
       "      <th>M1</th>\n",
       "      <th>M2</th>\n",
       "    </tr>\n",
       "  </thead>\n",
       "  <tbody>\n",
       "    <tr>\n",
       "      <th>ID (uA)</th>\n",
       "      <td>104.72</td>\n",
       "      <td>52.36</td>\n",
       "      <td>52.36</td>\n",
       "    </tr>\n",
       "    <tr>\n",
       "      <th>w (um)</th>\n",
       "      <td>38.50</td>\n",
       "      <td>19.25</td>\n",
       "      <td>66.52</td>\n",
       "    </tr>\n",
       "    <tr>\n",
       "      <th>l (um)</th>\n",
       "      <td>0.50</td>\n",
       "      <td>0.50</td>\n",
       "      <td>0.50</td>\n",
       "    </tr>\n",
       "    <tr>\n",
       "      <th>nf</th>\n",
       "      <td>8.00</td>\n",
       "      <td>4.00</td>\n",
       "      <td>14.00</td>\n",
       "    </tr>\n",
       "  </tbody>\n",
       "</table>\n",
       "</div>"
      ],
      "text/plain": [
       "             M0     M1     M2\n",
       "ID (uA)  104.72  52.36  52.36\n",
       "w (um)    38.50  19.25  66.52\n",
       "l (um)     0.50   0.50   0.50\n",
       "nf         8.00   4.00  14.00"
      ]
     },
     "execution_count": 104,
     "metadata": {},
     "output_type": "execute_result"
    }
   ],
   "source": [
    "# finger the devices\n",
    "wfing = 5\n",
    "nf0 = 1+np.floor_divide(w0, wfing)\n",
    "nf1 = 1+np.floor_divide(w1, wfing)\n",
    "nf2 = 1+np.floor_divide(w2, wfing)\n",
    "df = pd.DataFrame( [(id0*1e6, id1*1e6, id2*1e6), (w0, w1, w2), (l0, l1, l2), (nf0, nf1, nf2)], \\\n",
    "                   ['ID (uA)', 'w (um)', 'l (um)', 'nf'], columns=['M0', 'M1', 'M2']); df.round(2)"
   ]
  },
  {
   "cell_type": "markdown",
   "metadata": {},
   "source": [
    "#### Write spice include file"
   ]
  },
  {
   "cell_type": "code",
   "execution_count": 105,
   "metadata": {},
   "outputs": [],
   "source": [
    "with open('sizing_ota-5t_gf.spice', 'w') as file:\n",
    "    file.write(\".param ibn = \" + \"{:.2e}\".format(id0) + '\\n')\n",
    "    file.write(\".param W0 = \" + \"{:.2e}\".format(w0*1e-6) + '\\n')\n",
    "    file.write(\".param W1 = \" + \"{:.2e}\".format(w1*1e-6) + '\\n')\n",
    "    file.write(\".param W2 = \" + \"{:.2e}\".format(w2*1e-6) + '\\n')\n",
    "    file.write(\".param L0 = \" + \"{:.2e}\".format(l0*1e-6) + '\\n')\n",
    "    file.write(\".param L1 = \" + \"{:.2e}\".format(l1*1e-6) + '\\n')\n",
    "    file.write(\".param L2 = \" + \"{:.2e}\".format(l2*1e-6) + '\\n')\n",
    "    file.write(\".param nf0 = \" + \"{}\".format(nf0) + '\\n')\n",
    "    file.write(\".param nf1 = \" + \"{}\".format(nf1) + '\\n')\n",
    "    file.write(\".param nf2 = \" + \"{}\".format(nf2) + '\\n')"
   ]
  }
 ],
 "metadata": {
  "kernelspec": {
   "display_name": "Python 3",
   "language": "python",
   "name": "python3"
  },
  "language_info": {
   "codemirror_mode": {
    "name": "ipython",
    "version": 3
   },
   "file_extension": ".py",
   "mimetype": "text/x-python",
   "name": "python",
   "nbconvert_exporter": "python",
   "pygments_lexer": "ipython3",
   "version": "3.12.3"
  }
 },
 "nbformat": 4,
 "nbformat_minor": 2
}
